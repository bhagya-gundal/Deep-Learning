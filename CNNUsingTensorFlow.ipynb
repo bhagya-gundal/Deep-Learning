{
 "cells": [
  {
   "cell_type": "markdown",
   "metadata": {},
   "source": [
    "# Assignment 3 - Deep Learning"
   ]
  },
  {
   "cell_type": "markdown",
   "metadata": {},
   "source": [
    "## Abstract\n",
    "<p style='text-align:justify' >\n",
    "The goal of this assignment is to create a Deep Learning model. The dataset has 5 types of ships which are {'Cargo': 1, 'Military': 2, 'Carrier': 3, 'Cruise': 4, 'Tankers': 5}. Convolutional Neural Network (CNN) is trained with the images of various types of ships using a 60% of the data and validate simulataneously against 20% of the data and finally test the training with the remaining 20% of the data. The CNN is adjusted with various hyperparameters like using different activation functions, loss functions, changing the epochs, using various initialisers, changing network size and layers and finally obtaining the best accurate version of the CNN for the data. The programming is done in TensorFlow language by Google and loss and accuracy plot indicate how good or bad the network is trained aganist the data.\n",
    "\n",
    "### Problem Statement\n",
    "<p style='text-align:justify' >\n",
    "     Developing a Deep Learning model that automatically classifies the type of the ship when one or more images are given as input to the model. \n",
    "   It can also be accessed from this link https://www.kaggle.com/arpitjain007/game-of-deep-learning-ship-datasets\n",
    "   \n",
    "### Data Introduction\n",
    "<p style='text-align:justify' >\n",
    "       The ships dataset from kaggle has around 6252 images which can be split to train and test the neural network. The categories of ships and their corresponding codes in the dataset are as follows - {'Cargo': 1, 'Military': 2, 'Carrier': 3, 'Cruise': 4, 'Tankers': 5}\n",
    "   \n",
    "### Solution approach\n",
    "<p style='text-align:justify' >\n",
    "   1. Firstly, the csv file which has the image name and category of the image is converted to a pandas dataframe and split into training and testing dataframes.<br><br> \n",
    "   2. Secondly, the images using the names and labels in the dataframes are converted to an tuple format which specifies images as numpy n-dimensional arrays of shape (32,32) and the labels in the second part of the tuple.<br><br>\n",
    "   3. Thirdly, the arrays generated is fed to the neural network made of Conv2D layers, MaxPooling2D, Flatten and Dense layers with appropriate activation functions added to each layer.<br><br>\n",
    "   4. Finally the results are evaluated with respect to training, validation losses and accuracies to understand the Neural Network behavior.\n",
    "   \n"
   ]
  },
  {
   "cell_type": "markdown",
   "metadata": {},
   "source": [
    "# Part A - Deep Learning model - Convolutional Neural Network (CNN)"
   ]
  },
  {
   "cell_type": "markdown",
   "metadata": {},
   "source": [
    "## Let's import Libraries"
   ]
  },
  {
   "cell_type": "code",
   "execution_count": 73,
   "metadata": {},
   "outputs": [],
   "source": [
    "import tensorflow as tf\n",
    "from tensorflow.keras.preprocessing.image import ImageDataGenerator\n",
    "from tensorflow.keras import layers, models\n",
    "from tensorflow.keras.layers import LeakyReLU\n",
    "from tensorflow.keras.losses import *\n",
    "from sklearn.model_selection import train_test_split\n",
    "import matplotlib.pyplot as plt\n",
    "import pandas as pd\n",
    "import numpy as np\n",
    "from IPython.display import display, Image"
   ]
  },
  {
   "cell_type": "markdown",
   "metadata": {},
   "source": [
    "## Data loading"
   ]
  },
  {
   "cell_type": "code",
   "execution_count": 2,
   "metadata": {},
   "outputs": [],
   "source": [
    "df = pd.read_csv('/Users/mahi/Downloads/game-of-deep-learning-ship-datasets/train.csv', dtype=str)"
   ]
  },
  {
   "cell_type": "markdown",
   "metadata": {},
   "source": [
    "## Visualizing the Dataset"
   ]
  },
  {
   "cell_type": "code",
   "execution_count": 59,
   "metadata": {},
   "outputs": [
    {
     "data": {
      "text/html": [
       "<div>\n",
       "<style scoped>\n",
       "    .dataframe tbody tr th:only-of-type {\n",
       "        vertical-align: middle;\n",
       "    }\n",
       "\n",
       "    .dataframe tbody tr th {\n",
       "        vertical-align: top;\n",
       "    }\n",
       "\n",
       "    .dataframe thead th {\n",
       "        text-align: right;\n",
       "    }\n",
       "</style>\n",
       "<table border=\"1\" class=\"dataframe\">\n",
       "  <thead>\n",
       "    <tr style=\"text-align: right;\">\n",
       "      <th></th>\n",
       "      <th>image</th>\n",
       "      <th>category</th>\n",
       "    </tr>\n",
       "  </thead>\n",
       "  <tbody>\n",
       "    <tr>\n",
       "      <td>0</td>\n",
       "      <td>2823080.jpg</td>\n",
       "      <td>1</td>\n",
       "    </tr>\n",
       "    <tr>\n",
       "      <td>1</td>\n",
       "      <td>2870024.jpg</td>\n",
       "      <td>1</td>\n",
       "    </tr>\n",
       "    <tr>\n",
       "      <td>2</td>\n",
       "      <td>2662125.jpg</td>\n",
       "      <td>2</td>\n",
       "    </tr>\n",
       "    <tr>\n",
       "      <td>3</td>\n",
       "      <td>2900420.jpg</td>\n",
       "      <td>3</td>\n",
       "    </tr>\n",
       "    <tr>\n",
       "      <td>4</td>\n",
       "      <td>2804883.jpg</td>\n",
       "      <td>2</td>\n",
       "    </tr>\n",
       "  </tbody>\n",
       "</table>\n",
       "</div>"
      ],
      "text/plain": [
       "         image category\n",
       "0  2823080.jpg        1\n",
       "1  2870024.jpg        1\n",
       "2  2662125.jpg        2\n",
       "3  2900420.jpg        3\n",
       "4  2804883.jpg        2"
      ]
     },
     "execution_count": 59,
     "metadata": {},
     "output_type": "execute_result"
    }
   ],
   "source": [
    "df.head()"
   ]
  },
  {
   "cell_type": "markdown",
   "metadata": {},
   "source": [
    "Splitting the data into training and testing dataset."
   ]
  },
  {
   "cell_type": "code",
   "execution_count": 4,
   "metadata": {},
   "outputs": [],
   "source": [
    "train_data, test_data = train_test_split(df, test_size=0.2, random_state=42)"
   ]
  },
  {
   "cell_type": "markdown",
   "metadata": {},
   "source": [
    "Sample images of ships are shown below"
   ]
  },
  {
   "cell_type": "code",
   "execution_count": 80,
   "metadata": {},
   "outputs": [
    {
     "data": {
      "image/jpeg": "[encoded data removed]",
      "text/plain": [
       "<IPython.core.display.Image object>"
      ]
     },
     "metadata": {
      "image/jpeg": {
       "width": 470
      }
     },
     "output_type": "display_data"
    },
    {
     "data": {
      "image/jpeg": "[encoded data removed]",
      "text/plain": [
       "<IPython.core.display.Image object>"
      ]
     },
     "metadata": {
      "image/jpeg": {
       "width": 470
      }
     },
     "output_type": "display_data"
    },
    {
     "data": {
      "image/jpeg": "[encoded data removed]",
      "text/plain": [
       "<IPython.core.display.Image object>"
      ]
     },
     "metadata": {
      "image/jpeg": {
       "width": 470
      }
     },
     "output_type": "display_data"
    },
    {
     "data": {
      "image/jpeg": "[encoded data removed]",
      "text/plain": [
       "<IPython.core.display.Image object>"
      ]
     },
     "metadata": {
      "image/jpeg": {
       "width": 470
      }
     },
     "output_type": "display_data"
    },
    {
     "data": {
      "image/jpeg": "[encoded data removed]",
      "text/plain": [
       "<IPython.core.display.Image object>"
      ]
     },
     "metadata": {
      "image/jpeg": {
       "width": 470
      }
     },
     "output_type": "display_data"
    }
   ],
   "source": [
    "for i in range(5):\n",
    "    display(Image(width=470,filename='/Users/mahi/Downloads/game-of-deep-learning-ship-datasets/images_use/'+train_data.image[i]))"
   ]
  },
  {
   "cell_type": "code",
   "execution_count": 81,
   "metadata": {},
   "outputs": [
    {
     "name": "stdout",
     "output_type": "stream",
     "text": [
      "            image category\n",
      "478   2790315.jpg        1\n",
      "5099  2895143.jpg        3\n",
      "1203  2677725.jpg        2\n",
      "5674  2779530.jpg        2\n",
      "142   2810767.jpg        1\n",
      "...           ...      ...\n",
      "3772  2853892.jpg        1\n",
      "5191  2903689.jpg        2\n",
      "5226  1820874.jpg        4\n",
      "5390  2884285.jpg        5\n",
      "860   2903475.jpg        2\n",
      "\n",
      "[5001 rows x 2 columns]\n",
      "            image category\n",
      "1703  2525185.jpg        4\n",
      "5448  2837639.jpg        1\n",
      "5058  2904577.jpg        1\n",
      "1149  2866290.jpg        3\n",
      "432   2459131.jpg        4\n",
      "...           ...      ...\n",
      "416   2884436.jpg        5\n",
      "6110  2782276.jpg        1\n",
      "3185  2843694.jpg        1\n",
      "2025  2792377.jpg        1\n",
      "564   2838422.jpg        3\n",
      "\n",
      "[1251 rows x 2 columns]\n"
     ]
    }
   ],
   "source": [
    "print(train_data)\n",
    "print(test_data)"
   ]
  },
  {
   "cell_type": "markdown",
   "metadata": {},
   "source": [
    "Images can to be converted into (32,32) dimensional arrays using ImageDataGenerator()"
   ]
  },
  {
   "cell_type": "code",
   "execution_count": 7,
   "metadata": {},
   "outputs": [],
   "source": [
    "data_generator = ImageDataGenerator(rescale=1./255, validation_split=0.2)"
   ]
  },
  {
   "cell_type": "markdown",
   "metadata": {},
   "source": [
    "### The images data is split into training, validation and testing data using below lines."
   ]
  },
  {
   "cell_type": "code",
   "execution_count": 8,
   "metadata": {},
   "outputs": [
    {
     "name": "stdout",
     "output_type": "stream",
     "text": [
      "Found 4001 validated image filenames belonging to 5 classes.\n",
      "Found 1000 validated image filenames belonging to 5 classes.\n",
      "Found 1251 validated image filenames belonging to 5 classes.\n"
     ]
    }
   ],
   "source": [
    "path_train = '/Users/mahi/Downloads/game-of-deep-learning-ship-datasets/images_use'\n",
    "train_df = data_generator.flow_from_dataframe(dataframe=train_data,\n",
    "                                              directory=path_train,\n",
    "                                                    x_col='image',\n",
    "                                                    y_col='category',\n",
    "                                                    target_size=(32,32),\n",
    "                                                    class_mode='sparse',\n",
    "                                                    subset='training',\n",
    "                                              batch_size=64,\n",
    "                                                    seed =1\n",
    "                                                    )\n",
    "val_df = data_generator.flow_from_dataframe(dataframe=train_data,\n",
    "                                            directory=path_train,\n",
    "                                            x_col='image',\n",
    "                                                    y_col='category',\n",
    "                                                    target_size=(32,32),\n",
    "                                                    class_mode='sparse',\n",
    "                                            batch_size=64,\n",
    "                                                    subset='validation',\n",
    "                                                    seed =1\n",
    "                                                    )\n",
    "test_df = data_generator.flow_from_dataframe(dataframe=test_data,\n",
    "                                            directory=path_train,\n",
    "                                            x_col='image',\n",
    "                                                    y_col='category',\n",
    "                                                    target_size=(32,32),\n",
    "                                                    class_mode='sparse',\n",
    "                                            batch_size=64,\n",
    "                                                    seed =1)"
   ]
  },
  {
   "cell_type": "markdown",
   "metadata": {},
   "source": [
    "### Below are the categories of the ships"
   ]
  },
  {
   "cell_type": "code",
   "execution_count": 9,
   "metadata": {},
   "outputs": [],
   "source": [
    "categories = ['Cargo','Military', 'Carrier', 'Cruise', 'Tankers']"
   ]
  },
  {
   "cell_type": "markdown",
   "metadata": {},
   "source": [
    "### Defining 4 functions to model a network, training the model and plotting the training and testing results"
   ]
  },
  {
   "cell_type": "code",
   "execution_count": 10,
   "metadata": {},
   "outputs": [],
   "source": [
    "def model_cnn(activation_func, optimizer, loss_func):\n",
    "    model = models.Sequential()\n",
    "    model.add(layers.Conv2D(32, (3, 3), activation=activation_func, input_shape=(32, 32, 3)))\n",
    "    model.add(layers.MaxPooling2D((2, 2)))\n",
    "    model.add(layers.Conv2D(64, (3, 3), activation=activation_func))\n",
    "    model.add(layers.MaxPooling2D((2, 2)))\n",
    "    model.add(layers.Conv2D(64, (3, 3), activation=activation_func))\n",
    "    model.add(layers.Flatten())\n",
    "    model.add(layers.Dense(64, activation=activation_func))\n",
    "    model.add(layers.Dense(10))\n",
    "    model.compile(loss=loss_func, optimizer=optimizer, metrics=['accuracy'])\n",
    "    return model\n",
    "    "
   ]
  },
  {
   "cell_type": "code",
   "execution_count": 11,
   "metadata": {},
   "outputs": [],
   "source": [
    "def train_model(model,epochs):\n",
    "    train_steps = train_df.n//train_df.batch_size\n",
    "    val_steps = val_df.n//val_df.batch_size\n",
    "    train_results = model.fit(train_df,\n",
    "                              steps_per_epoch=train_steps, \n",
    "                              epochs=epochs, \n",
    "                              validation_data=val_df,validation_steps=val_steps)\n",
    "    return train_results"
   ]
  },
  {
   "cell_type": "code",
   "execution_count": 12,
   "metadata": {},
   "outputs": [],
   "source": [
    "def plot_train_results(train_results):\n",
    "    acc = train_results.history['accuracy']\n",
    "    val_acc = train_results.history['val_accuracy']\n",
    "\n",
    "    loss = train_results.history['loss']\n",
    "    val_loss = train_results.history['val_loss']\n",
    "\n",
    "    plt.figure(figsize=(12, 12))\n",
    "    plt.subplot(2, 1, 1)\n",
    "    plt.plot(acc, label='Training Accuracy')\n",
    "    plt.plot(val_acc, label='Validation Accuracy')\n",
    "    plt.legend(loc='lower right')\n",
    "    plt.ylabel('Accuracy')\n",
    "    plt.ylim([min(plt.ylim()),1])\n",
    "    plt.title('Training and Validation Accuracy')\n",
    "\n",
    "    plt.subplot(2, 1, 2)\n",
    "    plt.plot(loss, label='Training Loss')\n",
    "    plt.plot(val_loss, label='Validation Loss')\n",
    "    plt.legend(loc='upper right')\n",
    "    plt.ylabel('Loss')\n",
    "    plt.ylim([0,max(plt.ylim())])\n",
    "    plt.title('Training and Validation Loss')\n",
    "    plt.xlabel('epoch')\n",
    "    plt.show()"
   ]
  },
  {
   "cell_type": "code",
   "execution_count": 13,
   "metadata": {},
   "outputs": [],
   "source": [
    "def test_results(model, testing_data):\n",
    "    test_loss, test_acc = model.evaluate(test_df, verbose=2)\n",
    "    print('Test loss: ', test_loss)\n",
    "    print('Test accuracy: ', test_acc)\n",
    "    return"
   ]
  },
  {
   "cell_type": "markdown",
   "metadata": {},
   "source": [
    "## The CNN model:\n",
    "Parameters: \n",
    "   * Activation function = ReLU\n",
    "   * Loss function = SparseCategoricalCrossentropy()\n",
    "   * Optimizer = ADAM"
   ]
  },
  {
   "cell_type": "markdown",
   "metadata": {},
   "source": [
    "The convolution neural network is formed by 3 conv2d layers, 2 MaxPooling and 1 Flatten and 1 Dense layers."
   ]
  },
  {
   "cell_type": "code",
   "execution_count": 82,
   "metadata": {},
   "outputs": [
    {
     "name": "stdout",
     "output_type": "stream",
     "text": [
      "Model: \"sequential_12\"\n",
      "_________________________________________________________________\n",
      "Layer (type)                 Output Shape              Param #   \n",
      "=================================================================\n",
      "conv2d_35 (Conv2D)           (None, 30, 30, 32)        896       \n",
      "_________________________________________________________________\n",
      "max_pooling2d_23 (MaxPooling (None, 15, 15, 32)        0         \n",
      "_________________________________________________________________\n",
      "conv2d_36 (Conv2D)           (None, 13, 13, 64)        18496     \n",
      "_________________________________________________________________\n",
      "max_pooling2d_24 (MaxPooling (None, 6, 6, 64)          0         \n",
      "_________________________________________________________________\n",
      "conv2d_37 (Conv2D)           (None, 4, 4, 64)          36928     \n",
      "_________________________________________________________________\n",
      "flatten_12 (Flatten)         (None, 1024)              0         \n",
      "_________________________________________________________________\n",
      "dense_27 (Dense)             (None, 64)                65600     \n",
      "_________________________________________________________________\n",
      "dense_28 (Dense)             (None, 10)                650       \n",
      "=================================================================\n",
      "Total params: 122,570\n",
      "Trainable params: 122,570\n",
      "Non-trainable params: 0\n",
      "_________________________________________________________________\n"
     ]
    }
   ],
   "source": [
    "model_1 = model_cnn('relu','adam',SparseCategoricalCrossentropy(from_logits=True))\n",
    "model_1.summary()"
   ]
  },
  {
   "cell_type": "markdown",
   "metadata": {},
   "source": [
    "## The model is trained for 15 epochs and the maximum validation accuracy achieved is 65.83%"
   ]
  },
  {
   "cell_type": "code",
   "execution_count": 15,
   "metadata": {},
   "outputs": [
    {
     "name": "stdout",
     "output_type": "stream",
     "text": [
      "WARNING:tensorflow:sample_weight modes were coerced from\n",
      "  ...\n",
      "    to  \n",
      "  ['...']\n",
      "WARNING:tensorflow:sample_weight modes were coerced from\n",
      "  ...\n",
      "    to  \n",
      "  ['...']\n",
      "Train for 62 steps, validate for 15 steps\n",
      "Epoch 1/15\n",
      "62/62 [==============================] - 5s 77ms/step - loss: 1.6077 - accuracy: 0.3299 - val_loss: 1.4810 - val_accuracy: 0.3792\n",
      "Epoch 2/15\n",
      "62/62 [==============================] - 4s 67ms/step - loss: 1.4243 - accuracy: 0.3942 - val_loss: 1.3398 - val_accuracy: 0.4604\n",
      "Epoch 3/15\n",
      "62/62 [==============================] - 4s 66ms/step - loss: 1.2672 - accuracy: 0.4818 - val_loss: 1.2538 - val_accuracy: 0.5031\n",
      "Epoch 4/15\n",
      "62/62 [==============================] - 4s 68ms/step - loss: 1.1551 - accuracy: 0.5215 - val_loss: 1.1304 - val_accuracy: 0.5594\n",
      "Epoch 5/15\n",
      "62/62 [==============================] - 4s 67ms/step - loss: 1.0656 - accuracy: 0.5662 - val_loss: 1.0898 - val_accuracy: 0.5615\n",
      "Epoch 6/15\n",
      "62/62 [==============================] - 4s 68ms/step - loss: 1.0282 - accuracy: 0.5743 - val_loss: 1.0602 - val_accuracy: 0.5708\n",
      "Epoch 7/15\n",
      "62/62 [==============================] - 4s 68ms/step - loss: 0.9608 - accuracy: 0.6033 - val_loss: 1.0031 - val_accuracy: 0.6177\n",
      "Epoch 8/15\n",
      "62/62 [==============================] - 4s 69ms/step - loss: 0.9056 - accuracy: 0.6218 - val_loss: 0.9711 - val_accuracy: 0.6187\n",
      "Epoch 9/15\n",
      "62/62 [==============================] - 4s 68ms/step - loss: 0.8790 - accuracy: 0.6487 - val_loss: 0.9381 - val_accuracy: 0.6198\n",
      "Epoch 10/15\n",
      "62/62 [==============================] - 4s 69ms/step - loss: 0.8418 - accuracy: 0.6586 - val_loss: 0.9191 - val_accuracy: 0.6344\n",
      "Epoch 11/15\n",
      "62/62 [==============================] - 4s 67ms/step - loss: 0.8026 - accuracy: 0.6782 - val_loss: 0.8979 - val_accuracy: 0.6365\n",
      "Epoch 12/15\n",
      "62/62 [==============================] - 4s 68ms/step - loss: 0.7874 - accuracy: 0.6845 - val_loss: 0.9530 - val_accuracy: 0.6021\n",
      "Epoch 13/15\n",
      "62/62 [==============================] - 4s 67ms/step - loss: 0.7665 - accuracy: 0.6965 - val_loss: 0.8754 - val_accuracy: 0.6531\n",
      "Epoch 14/15\n",
      "62/62 [==============================] - 4s 67ms/step - loss: 0.7000 - accuracy: 0.7203 - val_loss: 0.9055 - val_accuracy: 0.6302\n",
      "Epoch 15/15\n",
      "62/62 [==============================] - 4s 68ms/step - loss: 0.7061 - accuracy: 0.7226 - val_loss: 0.8649 - val_accuracy: 0.6583\n"
     ]
    },
    {
     "data": {
      "image/png": "[encoded data removed]",
      "text/plain": [
       "<Figure size 864x864 with 2 Axes>"
      ]
     },
     "metadata": {
      "needs_background": "light"
     },
     "output_type": "display_data"
    }
   ],
   "source": [
    "epochs = 15\n",
    "train_results = train_model(model_1,epochs)\n",
    "plot_train_results(train_results)"
   ]
  },
  {
   "cell_type": "markdown",
   "metadata": {},
   "source": [
    "### The testing accuracy is similar to validation accuracy and it is 63.78%"
   ]
  },
  {
   "cell_type": "code",
   "execution_count": 16,
   "metadata": {},
   "outputs": [
    {
     "name": "stdout",
     "output_type": "stream",
     "text": [
      "WARNING:tensorflow:sample_weight modes were coerced from\n",
      "  ...\n",
      "    to  \n",
      "  ['...']\n",
      "20/20 - 1s - loss: 0.9016 - accuracy: 0.6379\n",
      "Test loss:  0.9016146898269654\n",
      "Test accuracy:  0.6378897\n"
     ]
    }
   ],
   "source": [
    "#Testing results:\n",
    "test_results(model_1, test_df)"
   ]
  },
  {
   "cell_type": "markdown",
   "metadata": {},
   "source": [
    "# Part B: Changing the activation function\n",
    "    1. tanh\n",
    "    2. softsign"
   ]
  },
  {
   "cell_type": "code",
   "execution_count": 17,
   "metadata": {},
   "outputs": [
    {
     "name": "stdout",
     "output_type": "stream",
     "text": [
      "Model: \"sequential_1\"\n",
      "_________________________________________________________________\n",
      "Layer (type)                 Output Shape              Param #   \n",
      "=================================================================\n",
      "conv2d_3 (Conv2D)            (None, 30, 30, 32)        896       \n",
      "_________________________________________________________________\n",
      "max_pooling2d_2 (MaxPooling2 (None, 15, 15, 32)        0         \n",
      "_________________________________________________________________\n",
      "conv2d_4 (Conv2D)            (None, 13, 13, 64)        18496     \n",
      "_________________________________________________________________\n",
      "max_pooling2d_3 (MaxPooling2 (None, 6, 6, 64)          0         \n",
      "_________________________________________________________________\n",
      "conv2d_5 (Conv2D)            (None, 4, 4, 64)          36928     \n",
      "_________________________________________________________________\n",
      "flatten_1 (Flatten)          (None, 1024)              0         \n",
      "_________________________________________________________________\n",
      "dense_2 (Dense)              (None, 64)                65600     \n",
      "_________________________________________________________________\n",
      "dense_3 (Dense)              (None, 10)                650       \n",
      "=================================================================\n",
      "Total params: 122,570\n",
      "Trainable params: 122,570\n",
      "Non-trainable params: 0\n",
      "_________________________________________________________________\n"
     ]
    }
   ],
   "source": [
    "model_2 = model_cnn('tanh','adam',SparseCategoricalCrossentropy(from_logits=True))\n",
    "model_2.summary()"
   ]
  },
  {
   "cell_type": "code",
   "execution_count": 83,
   "metadata": {},
   "outputs": [
    {
     "name": "stdout",
     "output_type": "stream",
     "text": [
      "WARNING:tensorflow:sample_weight modes were coerced from\n",
      "  ...\n",
      "    to  \n",
      "  ['...']\n",
      "WARNING:tensorflow:sample_weight modes were coerced from\n",
      "  ...\n",
      "    to  \n",
      "  ['...']\n",
      "Train for 62 steps, validate for 15 steps\n",
      "Epoch 1/15\n",
      "62/62 [==============================] - 7s 108ms/step - loss: 0.3695 - accuracy: 0.8793 - val_loss: 0.8516 - val_accuracy: 0.6854\n",
      "Epoch 2/15\n",
      "62/62 [==============================] - 6s 90ms/step - loss: 0.3325 - accuracy: 0.8918 - val_loss: 0.8831 - val_accuracy: 0.6823\n",
      "Epoch 3/15\n",
      "62/62 [==============================] - 7s 106ms/step - loss: 0.2932 - accuracy: 0.9141 - val_loss: 0.9318 - val_accuracy: 0.6677\n",
      "Epoch 4/15\n",
      "62/62 [==============================] - 4s 69ms/step - loss: 0.2416 - accuracy: 0.9411 - val_loss: 0.8931 - val_accuracy: 0.6938\n",
      "Epoch 5/15\n",
      "62/62 [==============================] - 5s 75ms/step - loss: 0.1982 - accuracy: 0.9540 - val_loss: 0.9310 - val_accuracy: 0.6625\n",
      "Epoch 6/15\n",
      "62/62 [==============================] - 5s 76ms/step - loss: 0.1662 - accuracy: 0.9677 - val_loss: 0.9456 - val_accuracy: 0.6740\n",
      "Epoch 7/15\n",
      "62/62 [==============================] - 4s 71ms/step - loss: 0.1379 - accuracy: 0.9743 - val_loss: 0.9888 - val_accuracy: 0.6802\n",
      "Epoch 8/15\n",
      "62/62 [==============================] - 4s 70ms/step - loss: 0.1158 - accuracy: 0.9850 - val_loss: 1.0524 - val_accuracy: 0.6604\n",
      "Epoch 9/15\n",
      "62/62 [==============================] - 4s 70ms/step - loss: 0.0919 - accuracy: 0.9903 - val_loss: 1.0416 - val_accuracy: 0.6760\n",
      "Epoch 10/15\n",
      "62/62 [==============================] - 4s 70ms/step - loss: 0.0739 - accuracy: 0.9939 - val_loss: 1.0572 - val_accuracy: 0.6792\n",
      "Epoch 11/15\n",
      "62/62 [==============================] - 4s 69ms/step - loss: 0.0591 - accuracy: 0.9980 - val_loss: 1.0639 - val_accuracy: 0.6823\n",
      "Epoch 12/15\n",
      "62/62 [==============================] - 4s 71ms/step - loss: 0.0500 - accuracy: 0.9982 - val_loss: 1.1333 - val_accuracy: 0.6698\n",
      "Epoch 13/15\n",
      "62/62 [==============================] - 4s 70ms/step - loss: 0.0408 - accuracy: 0.9990 - val_loss: 1.1854 - val_accuracy: 0.6750\n",
      "Epoch 14/15\n",
      "62/62 [==============================] - 4s 70ms/step - loss: 0.0350 - accuracy: 0.9995 - val_loss: 1.1468 - val_accuracy: 0.6854\n",
      "Epoch 15/15\n",
      "62/62 [==============================] - 4s 69ms/step - loss: 0.0286 - accuracy: 0.9997 - val_loss: 1.1916 - val_accuracy: 0.6760\n"
     ]
    },
    {
     "data": {
      "image/png": "[encoded data removed]",
      "text/plain": [
       "<Figure size 864x864 with 2 Axes>"
      ]
     },
     "metadata": {
      "needs_background": "light"
     },
     "output_type": "display_data"
    }
   ],
   "source": [
    "epochs = 15\n",
    "train_results = train_model(model_2,epochs)\n",
    "plot_train_results(train_results)"
   ]
  },
  {
   "cell_type": "code",
   "execution_count": 84,
   "metadata": {},
   "outputs": [
    {
     "name": "stdout",
     "output_type": "stream",
     "text": [
      "WARNING:tensorflow:sample_weight modes were coerced from\n",
      "  ...\n",
      "    to  \n",
      "  ['...']\n",
      "20/20 - 2s - loss: 1.3779 - accuracy: 0.6315\n",
      "Test loss:  1.3778504431247711\n",
      "Test accuracy:  0.6314948\n"
     ]
    }
   ],
   "source": [
    "#Testing Results\n",
    "\n",
    "test_results(model_2, test_df)"
   ]
  },
  {
   "cell_type": "markdown",
   "metadata": {},
   "source": [
    "The tanh activation function gave a similar accuracy than relu function with around 63.14% and the learning speed is similar to relu function."
   ]
  },
  {
   "cell_type": "code",
   "execution_count": 86,
   "metadata": {},
   "outputs": [
    {
     "name": "stdout",
     "output_type": "stream",
     "text": [
      "Model: \"sequential_13\"\n",
      "_________________________________________________________________\n",
      "Layer (type)                 Output Shape              Param #   \n",
      "=================================================================\n",
      "conv2d_38 (Conv2D)           (None, 30, 30, 32)        896       \n",
      "_________________________________________________________________\n",
      "max_pooling2d_25 (MaxPooling (None, 15, 15, 32)        0         \n",
      "_________________________________________________________________\n",
      "conv2d_39 (Conv2D)           (None, 13, 13, 64)        18496     \n",
      "_________________________________________________________________\n",
      "max_pooling2d_26 (MaxPooling (None, 6, 6, 64)          0         \n",
      "_________________________________________________________________\n",
      "conv2d_40 (Conv2D)           (None, 4, 4, 64)          36928     \n",
      "_________________________________________________________________\n",
      "flatten_13 (Flatten)         (None, 1024)              0         \n",
      "_________________________________________________________________\n",
      "dense_29 (Dense)             (None, 64)                65600     \n",
      "_________________________________________________________________\n",
      "dense_30 (Dense)             (None, 10)                650       \n",
      "=================================================================\n",
      "Total params: 122,570\n",
      "Trainable params: 122,570\n",
      "Non-trainable params: 0\n",
      "_________________________________________________________________\n"
     ]
    }
   ],
   "source": [
    "model_3 = model_cnn('softsign', 'adam',SparseCategoricalCrossentropy(from_logits=True))\n",
    "model_3.summary()"
   ]
  },
  {
   "cell_type": "code",
   "execution_count": 85,
   "metadata": {},
   "outputs": [
    {
     "name": "stdout",
     "output_type": "stream",
     "text": [
      "WARNING:tensorflow:sample_weight modes were coerced from\n",
      "  ...\n",
      "    to  \n",
      "  ['...']\n",
      "WARNING:tensorflow:sample_weight modes were coerced from\n",
      "  ...\n",
      "    to  \n",
      "  ['...']\n",
      "Train for 62 steps, validate for 15 steps\n",
      "Epoch 1/15\n",
      "62/62 [==============================] - 5s 75ms/step - loss: 0.5165 - accuracy: 0.8082 - val_loss: 0.7955 - val_accuracy: 0.7094\n",
      "Epoch 2/15\n",
      "62/62 [==============================] - 6s 104ms/step - loss: 0.4706 - accuracy: 0.8288 - val_loss: 0.8157 - val_accuracy: 0.6865\n",
      "Epoch 3/15\n",
      "62/62 [==============================] - 7s 111ms/step - loss: 0.4483 - accuracy: 0.8385 - val_loss: 0.8269 - val_accuracy: 0.6833\n",
      "Epoch 4/15\n",
      "62/62 [==============================] - 5s 78ms/step - loss: 0.3966 - accuracy: 0.8677 - val_loss: 0.8438 - val_accuracy: 0.6958\n",
      "Epoch 5/15\n",
      "62/62 [==============================] - 7s 113ms/step - loss: 0.3746 - accuracy: 0.8715 - val_loss: 0.8474 - val_accuracy: 0.6927\n",
      "Epoch 6/15\n",
      "62/62 [==============================] - 5s 75ms/step - loss: 0.3283 - accuracy: 0.8890 - val_loss: 0.8961 - val_accuracy: 0.6740\n",
      "Epoch 7/15\n",
      "62/62 [==============================] - 5s 73ms/step - loss: 0.2996 - accuracy: 0.9081 - val_loss: 0.8808 - val_accuracy: 0.6760\n",
      "Epoch 8/15\n",
      "62/62 [==============================] - 5s 76ms/step - loss: 0.2557 - accuracy: 0.9225 - val_loss: 0.8561 - val_accuracy: 0.7021\n",
      "Epoch 9/15\n",
      "62/62 [==============================] - 4s 72ms/step - loss: 0.2199 - accuracy: 0.9317 - val_loss: 0.9765 - val_accuracy: 0.6719\n",
      "Epoch 10/15\n",
      "62/62 [==============================] - 4s 71ms/step - loss: 0.1986 - accuracy: 0.9510 - val_loss: 0.9493 - val_accuracy: 0.6865\n",
      "Epoch 11/15\n",
      "62/62 [==============================] - 4s 72ms/step - loss: 0.1752 - accuracy: 0.9550 - val_loss: 0.9513 - val_accuracy: 0.6844\n",
      "Epoch 12/15\n",
      "62/62 [==============================] - 4s 71ms/step - loss: 0.1600 - accuracy: 0.9576 - val_loss: 0.9831 - val_accuracy: 0.6812\n",
      "Epoch 13/15\n",
      "62/62 [==============================] - 4s 70ms/step - loss: 0.1223 - accuracy: 0.9794 - val_loss: 1.0491 - val_accuracy: 0.6635\n",
      "Epoch 14/15\n",
      "62/62 [==============================] - 4s 69ms/step - loss: 0.1134 - accuracy: 0.9792 - val_loss: 1.0619 - val_accuracy: 0.6802\n",
      "Epoch 15/15\n",
      "62/62 [==============================] - 5s 73ms/step - loss: 0.0817 - accuracy: 0.9916 - val_loss: 1.0853 - val_accuracy: 0.6771\n"
     ]
    },
    {
     "data": {
      "image/png": "[encoded data removed]",
      "text/plain": [
       "<Figure size 864x864 with 2 Axes>"
      ]
     },
     "metadata": {
      "needs_background": "light"
     },
     "output_type": "display_data"
    }
   ],
   "source": [
    "epochs = 15\n",
    "train_results = train_model(model_3,epochs)\n",
    "plot_train_results(train_results)"
   ]
  },
  {
   "cell_type": "code",
   "execution_count": 87,
   "metadata": {},
   "outputs": [
    {
     "name": "stdout",
     "output_type": "stream",
     "text": [
      "WARNING:tensorflow:sample_weight modes were coerced from\n",
      "  ...\n",
      "    to  \n",
      "  ['...']\n",
      "20/20 - 2s - loss: 2.2448 - accuracy: 0.2398\n",
      "Test loss:  2.244776213169098\n",
      "Test accuracy:  0.23980816\n"
     ]
    }
   ],
   "source": [
    "test_results(model_3, test_df)"
   ]
  },
  {
   "cell_type": "markdown",
   "metadata": {},
   "source": [
    "The softsign activation function gave very less accuracy than tanh function with around 24%  and the learning speed is similar to relu function."
   ]
  },
  {
   "cell_type": "markdown",
   "metadata": {},
   "source": [
    "# Part C: Changing Loss function"
   ]
  },
  {
   "cell_type": "code",
   "execution_count": 23,
   "metadata": {},
   "outputs": [
    {
     "name": "stdout",
     "output_type": "stream",
     "text": [
      "Model: \"sequential_3\"\n",
      "_________________________________________________________________\n",
      "Layer (type)                 Output Shape              Param #   \n",
      "=================================================================\n",
      "conv2d_9 (Conv2D)            (None, 30, 30, 32)        896       \n",
      "_________________________________________________________________\n",
      "max_pooling2d_6 (MaxPooling2 (None, 15, 15, 32)        0         \n",
      "_________________________________________________________________\n",
      "conv2d_10 (Conv2D)           (None, 13, 13, 64)        18496     \n",
      "_________________________________________________________________\n",
      "max_pooling2d_7 (MaxPooling2 (None, 6, 6, 64)          0         \n",
      "_________________________________________________________________\n",
      "conv2d_11 (Conv2D)           (None, 4, 4, 64)          36928     \n",
      "_________________________________________________________________\n",
      "flatten_3 (Flatten)          (None, 1024)              0         \n",
      "_________________________________________________________________\n",
      "dense_6 (Dense)              (None, 64)                65600     \n",
      "_________________________________________________________________\n",
      "dense_7 (Dense)              (None, 10)                650       \n",
      "=================================================================\n",
      "Total params: 122,570\n",
      "Trainable params: 122,570\n",
      "Non-trainable params: 0\n",
      "_________________________________________________________________\n"
     ]
    }
   ],
   "source": [
    "# model 4:\n",
    "model_4 = model_cnn('relu', 'adam', 'categorical_hinge')\n",
    "model_4.summary()"
   ]
  },
  {
   "cell_type": "code",
   "execution_count": 88,
   "metadata": {},
   "outputs": [
    {
     "name": "stdout",
     "output_type": "stream",
     "text": [
      "WARNING:tensorflow:sample_weight modes were coerced from\n",
      "  ...\n",
      "    to  \n",
      "  ['...']\n",
      "WARNING:tensorflow:sample_weight modes were coerced from\n",
      "  ...\n",
      "    to  \n",
      "  ['...']\n",
      "Train for 62 steps, validate for 15 steps\n",
      "Epoch 1/15\n",
      "62/62 [==============================] - 6s 97ms/step - loss: 1.5900 - accuracy: 0.3355 - val_loss: 1.5424 - val_accuracy: 0.3458\n",
      "Epoch 2/15\n",
      "62/62 [==============================] - 4s 63ms/step - loss: 1.5401 - accuracy: 0.3388 - val_loss: 1.4803 - val_accuracy: 0.3531\n",
      "Epoch 3/15\n",
      "62/62 [==============================] - 4s 72ms/step - loss: 1.3766 - accuracy: 0.4150 - val_loss: 1.3208 - val_accuracy: 0.4667\n",
      "Epoch 4/15\n",
      "62/62 [==============================] - 5s 75ms/step - loss: 1.2031 - accuracy: 0.5100 - val_loss: 1.1436 - val_accuracy: 0.5552\n",
      "Epoch 5/15\n",
      "62/62 [==============================] - 4s 72ms/step - loss: 1.0989 - accuracy: 0.5489 - val_loss: 1.0654 - val_accuracy: 0.5917\n",
      "Epoch 6/15\n",
      "62/62 [==============================] - 5s 80ms/step - loss: 1.0143 - accuracy: 0.5890 - val_loss: 1.0028 - val_accuracy: 0.6010\n",
      "Epoch 7/15\n",
      "62/62 [==============================] - 7s 120ms/step - loss: 0.9606 - accuracy: 0.6170 - val_loss: 0.9692 - val_accuracy: 0.6260\n",
      "Epoch 8/15\n",
      "62/62 [==============================] - 7s 113ms/step - loss: 0.9033 - accuracy: 0.6289 - val_loss: 0.9115 - val_accuracy: 0.6375\n",
      "Epoch 9/15\n",
      "62/62 [==============================] - 6s 104ms/step - loss: 0.8479 - accuracy: 0.6617 - val_loss: 0.8835 - val_accuracy: 0.6615\n",
      "Epoch 10/15\n",
      "62/62 [==============================] - 7s 108ms/step - loss: 0.8189 - accuracy: 0.6739 - val_loss: 0.8740 - val_accuracy: 0.6583\n",
      "Epoch 11/15\n",
      "62/62 [==============================] - 4s 72ms/step - loss: 0.7616 - accuracy: 0.7000 - val_loss: 0.8665 - val_accuracy: 0.6479\n",
      "Epoch 12/15\n",
      "62/62 [==============================] - 4s 71ms/step - loss: 0.7130 - accuracy: 0.7181 - val_loss: 0.9217 - val_accuracy: 0.6469\n",
      "Epoch 13/15\n",
      "62/62 [==============================] - 4s 72ms/step - loss: 0.6804 - accuracy: 0.7303 - val_loss: 0.8216 - val_accuracy: 0.6802\n",
      "Epoch 14/15\n",
      "62/62 [==============================] - 4s 71ms/step - loss: 0.6539 - accuracy: 0.7455 - val_loss: 0.8109 - val_accuracy: 0.6844\n",
      "Epoch 15/15\n",
      "62/62 [==============================] - 5s 73ms/step - loss: 0.5942 - accuracy: 0.7772 - val_loss: 0.8177 - val_accuracy: 0.6677\n"
     ]
    },
    {
     "data": {
      "image/png": "[encoded data removed]",
      "text/plain": [
       "<Figure size 864x864 with 2 Axes>"
      ]
     },
     "metadata": {
      "needs_background": "light"
     },
     "output_type": "display_data"
    }
   ],
   "source": [
    "epochs = 15\n",
    "train_results = train_model(model_3,epochs)\n",
    "plot_train_results(train_results)"
   ]
  },
  {
   "cell_type": "code",
   "execution_count": 89,
   "metadata": {},
   "outputs": [
    {
     "name": "stdout",
     "output_type": "stream",
     "text": [
      "WARNING:tensorflow:sample_weight modes were coerced from\n",
      "  ...\n",
      "    to  \n",
      "  ['...']\n",
      "20/20 - 1s - loss: 0.3668 - accuracy: 0.1127\n",
      "Test loss:  0.36676577031612395\n",
      "Test accuracy:  0.112709835\n"
     ]
    }
   ],
   "source": [
    "test_results(model_4, test_df)"
   ]
  },
  {
   "cell_type": "code",
   "execution_count": 27,
   "metadata": {},
   "outputs": [],
   "source": [
    "# Binary Cross Entropy\n",
    "model_5 = model_cnn('relu','adam','mean_squared_error')"
   ]
  },
  {
   "cell_type": "code",
   "execution_count": 90,
   "metadata": {},
   "outputs": [
    {
     "name": "stdout",
     "output_type": "stream",
     "text": [
      "WARNING:tensorflow:sample_weight modes were coerced from\n",
      "  ...\n",
      "    to  \n",
      "  ['...']\n",
      "WARNING:tensorflow:sample_weight modes were coerced from\n",
      "  ...\n",
      "    to  \n",
      "  ['...']\n",
      "Train for 62 steps, validate for 15 steps\n",
      "Epoch 1/15\n",
      "62/62 [==============================] - 4s 63ms/step - loss: 0.5687 - accuracy: 0.7821 - val_loss: 0.8346 - val_accuracy: 0.6823\n",
      "Epoch 2/15\n",
      "62/62 [==============================] - 5s 87ms/step - loss: 0.5131 - accuracy: 0.8082 - val_loss: 0.9171 - val_accuracy: 0.6552\n",
      "Epoch 3/15\n",
      "62/62 [==============================] - 7s 119ms/step - loss: 0.4869 - accuracy: 0.8247 - val_loss: 0.7922 - val_accuracy: 0.7021\n",
      "Epoch 4/15\n",
      "62/62 [==============================] - 5s 87ms/step - loss: 0.4411 - accuracy: 0.8425 - val_loss: 0.8376 - val_accuracy: 0.6719\n",
      "Epoch 5/15\n",
      "62/62 [==============================] - 6s 91ms/step - loss: 0.4171 - accuracy: 0.8557 - val_loss: 0.8478 - val_accuracy: 0.6792\n",
      "Epoch 6/15\n",
      "62/62 [==============================] - 7s 113ms/step - loss: 0.3717 - accuracy: 0.8783 - val_loss: 0.8604 - val_accuracy: 0.6677\n",
      "Epoch 7/15\n",
      "62/62 [==============================] - 5s 79ms/step - loss: 0.3418 - accuracy: 0.8870 - val_loss: 0.8629 - val_accuracy: 0.6938\n",
      "Epoch 8/15\n",
      "62/62 [==============================] - 5s 73ms/step - loss: 0.3110 - accuracy: 0.9020 - val_loss: 0.8587 - val_accuracy: 0.6719\n",
      "Epoch 9/15\n",
      "62/62 [==============================] - 4s 72ms/step - loss: 0.2708 - accuracy: 0.9220 - val_loss: 0.8837 - val_accuracy: 0.6802\n",
      "Epoch 10/15\n",
      "62/62 [==============================] - 7s 107ms/step - loss: 0.2380 - accuracy: 0.9340 - val_loss: 0.9326 - val_accuracy: 0.6698\n",
      "Epoch 11/15\n",
      "62/62 [==============================] - 7s 120ms/step - loss: 0.2252 - accuracy: 0.9395 - val_loss: 0.9338 - val_accuracy: 0.6500\n",
      "Epoch 12/15\n",
      "62/62 [==============================] - 7s 110ms/step - loss: 0.1924 - accuracy: 0.9538 - val_loss: 0.9488 - val_accuracy: 0.6719\n",
      "Epoch 13/15\n",
      "62/62 [==============================] - 7s 109ms/step - loss: 0.1590 - accuracy: 0.9644 - val_loss: 0.9514 - val_accuracy: 0.6844\n",
      "Epoch 14/15\n",
      "62/62 [==============================] - 7s 109ms/step - loss: 0.1431 - accuracy: 0.9685 - val_loss: 0.9942 - val_accuracy: 0.6698\n",
      "Epoch 15/15\n",
      "62/62 [==============================] - 6s 99ms/step - loss: 0.1155 - accuracy: 0.9807 - val_loss: 1.0076 - val_accuracy: 0.6771\n"
     ]
    },
    {
     "data": {
      "image/png": "[encoded data removed]",
      "text/plain": [
       "<Figure size 864x864 with 2 Axes>"
      ]
     },
     "metadata": {
      "needs_background": "light"
     },
     "output_type": "display_data"
    }
   ],
   "source": [
    "epochs = 15\n",
    "train_results = train_model(model_4,epochs)\n",
    "plot_train_results(train_results)"
   ]
  },
  {
   "cell_type": "code",
   "execution_count": 29,
   "metadata": {},
   "outputs": [
    {
     "name": "stdout",
     "output_type": "stream",
     "text": [
      "WARNING:tensorflow:sample_weight modes were coerced from\n",
      "  ...\n",
      "    to  \n",
      "  ['...']\n",
      "20/20 - 1s - loss: 2.1385 - accuracy: 0.0815\n",
      "Test loss:  2.1385344505310058\n",
      "Test accuracy:  0.08153477\n"
     ]
    }
   ],
   "source": [
    "test_results(model_5, test_df)"
   ]
  },
  {
   "cell_type": "markdown",
   "metadata": {},
   "source": [
    "# Changing Epochs"
   ]
  },
  {
   "cell_type": "code",
   "execution_count": 30,
   "metadata": {},
   "outputs": [
    {
     "name": "stdout",
     "output_type": "stream",
     "text": [
      "Model: \"sequential\"\n",
      "_________________________________________________________________\n",
      "Layer (type)                 Output Shape              Param #   \n",
      "=================================================================\n",
      "conv2d (Conv2D)              (None, 30, 30, 32)        896       \n",
      "_________________________________________________________________\n",
      "max_pooling2d (MaxPooling2D) (None, 15, 15, 32)        0         \n",
      "_________________________________________________________________\n",
      "conv2d_1 (Conv2D)            (None, 13, 13, 64)        18496     \n",
      "_________________________________________________________________\n",
      "max_pooling2d_1 (MaxPooling2 (None, 6, 6, 64)          0         \n",
      "_________________________________________________________________\n",
      "conv2d_2 (Conv2D)            (None, 4, 4, 64)          36928     \n",
      "_________________________________________________________________\n",
      "flatten (Flatten)            (None, 1024)              0         \n",
      "_________________________________________________________________\n",
      "dense (Dense)                (None, 64)                65600     \n",
      "_________________________________________________________________\n",
      "dense_1 (Dense)              (None, 10)                650       \n",
      "=================================================================\n",
      "Total params: 122,570\n",
      "Trainable params: 122,570\n",
      "Non-trainable params: 0\n",
      "_________________________________________________________________\n"
     ]
    }
   ],
   "source": [
    "model_1.summary()"
   ]
  },
  {
   "cell_type": "code",
   "execution_count": 31,
   "metadata": {},
   "outputs": [
    {
     "name": "stdout",
     "output_type": "stream",
     "text": [
      "WARNING:tensorflow:sample_weight modes were coerced from\n",
      "  ...\n",
      "    to  \n",
      "  ['...']\n",
      "WARNING:tensorflow:sample_weight modes were coerced from\n",
      "  ...\n",
      "    to  \n",
      "  ['...']\n",
      "Train for 62 steps, validate for 15 steps\n",
      "Epoch 1/10\n",
      "62/62 [==============================] - 4s 72ms/step - loss: 0.6436 - accuracy: 0.7531 - val_loss: 0.8468 - val_accuracy: 0.6708\n",
      "Epoch 2/10\n",
      "62/62 [==============================] - 4s 68ms/step - loss: 0.5852 - accuracy: 0.7775 - val_loss: 0.8776 - val_accuracy: 0.6490\n",
      "Epoch 3/10\n",
      "62/62 [==============================] - 4s 70ms/step - loss: 0.5744 - accuracy: 0.7752 - val_loss: 0.8434 - val_accuracy: 0.6760\n",
      "Epoch 4/10\n",
      "62/62 [==============================] - 4s 70ms/step - loss: 0.5200 - accuracy: 0.7976 - val_loss: 0.8563 - val_accuracy: 0.6719\n",
      "Epoch 5/10\n",
      "62/62 [==============================] - 4s 72ms/step - loss: 0.4823 - accuracy: 0.8219 - val_loss: 0.9113 - val_accuracy: 0.6729\n",
      "Epoch 6/10\n",
      "62/62 [==============================] - 4s 71ms/step - loss: 0.4536 - accuracy: 0.8349 - val_loss: 0.9371 - val_accuracy: 0.6490\n",
      "Epoch 7/10\n",
      "62/62 [==============================] - 4s 71ms/step - loss: 0.4269 - accuracy: 0.8443 - val_loss: 0.9413 - val_accuracy: 0.6510\n",
      "Epoch 8/10\n",
      "62/62 [==============================] - 6s 103ms/step - loss: 0.3838 - accuracy: 0.8575 - val_loss: 0.9354 - val_accuracy: 0.6635\n",
      "Epoch 9/10\n",
      "62/62 [==============================] - 7s 107ms/step - loss: 0.3480 - accuracy: 0.8730 - val_loss: 0.9978 - val_accuracy: 0.6417\n",
      "Epoch 10/10\n",
      "62/62 [==============================] - 6s 90ms/step - loss: 0.3345 - accuracy: 0.8788 - val_loss: 0.9669 - val_accuracy: 0.6615\n"
     ]
    },
    {
     "data": {
      "text/plain": [
       "<tensorflow.python.keras.callbacks.History at 0x14db77d50>"
      ]
     },
     "execution_count": 31,
     "metadata": {},
     "output_type": "execute_result"
    }
   ],
   "source": [
    "epochs = 10\n",
    "train_model(model_1,epochs)"
   ]
  },
  {
   "cell_type": "code",
   "execution_count": 32,
   "metadata": {},
   "outputs": [
    {
     "name": "stdout",
     "output_type": "stream",
     "text": [
      "WARNING:tensorflow:sample_weight modes were coerced from\n",
      "  ...\n",
      "    to  \n",
      "  ['...']\n",
      "20/20 - 1s - loss: 1.0565 - accuracy: 0.6403\n",
      "Test loss:  1.0564565628767013\n",
      "Test accuracy:  0.64028776\n"
     ]
    }
   ],
   "source": [
    "test_results(model_1, test_df)"
   ]
  },
  {
   "cell_type": "code",
   "execution_count": 33,
   "metadata": {},
   "outputs": [
    {
     "name": "stdout",
     "output_type": "stream",
     "text": [
      "WARNING:tensorflow:sample_weight modes were coerced from\n",
      "  ...\n",
      "    to  \n",
      "  ['...']\n",
      "WARNING:tensorflow:sample_weight modes were coerced from\n",
      "  ...\n",
      "    to  \n",
      "  ['...']\n",
      "Train for 62 steps, validate for 15 steps\n",
      "Epoch 1/5\n",
      "62/62 [==============================] - 5s 76ms/step - loss: 0.2936 - accuracy: 0.8989 - val_loss: 1.0273 - val_accuracy: 0.6448\n",
      "Epoch 2/5\n",
      "62/62 [==============================] - 5s 75ms/step - loss: 0.2643 - accuracy: 0.9078 - val_loss: 1.1383 - val_accuracy: 0.6521\n",
      "Epoch 3/5\n",
      "62/62 [==============================] - 5s 74ms/step - loss: 0.2234 - accuracy: 0.9243 - val_loss: 1.1037 - val_accuracy: 0.6531\n",
      "Epoch 4/5\n",
      "62/62 [==============================] - 5s 73ms/step - loss: 0.1915 - accuracy: 0.9413 - val_loss: 1.1928 - val_accuracy: 0.6438\n",
      "Epoch 5/5\n",
      "62/62 [==============================] - 4s 71ms/step - loss: 0.1779 - accuracy: 0.9456 - val_loss: 1.2311 - val_accuracy: 0.6594\n"
     ]
    },
    {
     "data": {
      "text/plain": [
       "<tensorflow.python.keras.callbacks.History at 0x14c39dd50>"
      ]
     },
     "execution_count": 33,
     "metadata": {},
     "output_type": "execute_result"
    }
   ],
   "source": [
    "epochs = 5\n",
    "train_model(model_1, epochs)"
   ]
  },
  {
   "cell_type": "code",
   "execution_count": 34,
   "metadata": {},
   "outputs": [
    {
     "name": "stdout",
     "output_type": "stream",
     "text": [
      "WARNING:tensorflow:sample_weight modes were coerced from\n",
      "  ...\n",
      "    to  \n",
      "  ['...']\n",
      "20/20 - 1s - loss: 1.2272 - accuracy: 0.6611\n",
      "Test loss:  1.2272152036428452\n",
      "Test accuracy:  0.6610711\n"
     ]
    }
   ],
   "source": [
    "test_results(model_1, test_df)"
   ]
  },
  {
   "cell_type": "markdown",
   "metadata": {},
   "source": [
    "# Changing Gradient Estimation"
   ]
  },
  {
   "cell_type": "code",
   "execution_count": 35,
   "metadata": {},
   "outputs": [
    {
     "name": "stdout",
     "output_type": "stream",
     "text": [
      "Model: \"sequential_5\"\n",
      "_________________________________________________________________\n",
      "Layer (type)                 Output Shape              Param #   \n",
      "=================================================================\n",
      "conv2d_15 (Conv2D)           (None, 30, 30, 32)        896       \n",
      "_________________________________________________________________\n",
      "max_pooling2d_10 (MaxPooling (None, 15, 15, 32)        0         \n",
      "_________________________________________________________________\n",
      "conv2d_16 (Conv2D)           (None, 13, 13, 64)        18496     \n",
      "_________________________________________________________________\n",
      "max_pooling2d_11 (MaxPooling (None, 6, 6, 64)          0         \n",
      "_________________________________________________________________\n",
      "conv2d_17 (Conv2D)           (None, 4, 4, 64)          36928     \n",
      "_________________________________________________________________\n",
      "flatten_5 (Flatten)          (None, 1024)              0         \n",
      "_________________________________________________________________\n",
      "dense_10 (Dense)             (None, 64)                65600     \n",
      "_________________________________________________________________\n",
      "dense_11 (Dense)             (None, 10)                650       \n",
      "=================================================================\n",
      "Total params: 122,570\n",
      "Trainable params: 122,570\n",
      "Non-trainable params: 0\n",
      "_________________________________________________________________\n"
     ]
    }
   ],
   "source": [
    "model_6 = model_cnn(activation_func='relu', optimizer='Adagrad', \n",
    "                    loss_func=SparseCategoricalCrossentropy(from_logits=False))\n",
    "model_6.summary()"
   ]
  },
  {
   "cell_type": "code",
   "execution_count": 36,
   "metadata": {},
   "outputs": [
    {
     "name": "stdout",
     "output_type": "stream",
     "text": [
      "WARNING:tensorflow:sample_weight modes were coerced from\n",
      "  ...\n",
      "    to  \n",
      "  ['...']\n",
      "WARNING:tensorflow:sample_weight modes were coerced from\n",
      "  ...\n",
      "    to  \n",
      "  ['...']\n",
      "Train for 62 steps, validate for 15 steps\n",
      "Epoch 1/10\n",
      "62/62 [==============================] - 5s 76ms/step - loss: 1.8002 - accuracy: 0.3305 - val_loss: 1.4944 - val_accuracy: 0.3448\n",
      "Epoch 2/10\n",
      "62/62 [==============================] - 5s 73ms/step - loss: 1.4927 - accuracy: 0.3409 - val_loss: 1.4674 - val_accuracy: 0.3500\n",
      "Epoch 3/10\n",
      "62/62 [==============================] - 5s 73ms/step - loss: 1.4582 - accuracy: 0.3475 - val_loss: 1.4239 - val_accuracy: 0.3719\n",
      "Epoch 4/10\n",
      "62/62 [==============================] - 5s 73ms/step - loss: 1.4850 - accuracy: 0.3051 - val_loss: 1.4888 - val_accuracy: 0.3625\n",
      "Epoch 5/10\n",
      "62/62 [==============================] - 5s 74ms/step - loss: 1.4384 - accuracy: 0.3548 - val_loss: 1.4555 - val_accuracy: 0.3063\n",
      "Epoch 6/10\n",
      "62/62 [==============================] - 4s 73ms/step - loss: 1.4087 - accuracy: 0.3637 - val_loss: 1.4123 - val_accuracy: 0.4052\n",
      "Epoch 7/10\n",
      "62/62 [==============================] - 5s 75ms/step - loss: 1.3833 - accuracy: 0.3919 - val_loss: 1.4594 - val_accuracy: 0.4083\n",
      "Epoch 8/10\n",
      "62/62 [==============================] - 5s 74ms/step - loss: 1.4113 - accuracy: 0.3802 - val_loss: 1.4201 - val_accuracy: 0.4083\n",
      "Epoch 9/10\n",
      "62/62 [==============================] - 4s 71ms/step - loss: 1.3713 - accuracy: 0.4049 - val_loss: 1.4091 - val_accuracy: 0.4115\n",
      "Epoch 10/10\n",
      "62/62 [==============================] - 4s 73ms/step - loss: 1.3489 - accuracy: 0.4237 - val_loss: 1.3956 - val_accuracy: 0.4260\n"
     ]
    },
    {
     "data": {
      "text/plain": [
       "<tensorflow.python.keras.callbacks.History at 0x14b60c710>"
      ]
     },
     "execution_count": 36,
     "metadata": {},
     "output_type": "execute_result"
    }
   ],
   "source": [
    "train_model(model=model_6, epochs=10)"
   ]
  },
  {
   "cell_type": "code",
   "execution_count": 37,
   "metadata": {},
   "outputs": [
    {
     "name": "stdout",
     "output_type": "stream",
     "text": [
      "WARNING:tensorflow:sample_weight modes were coerced from\n",
      "  ...\n",
      "    to  \n",
      "  ['...']\n",
      "20/20 - 1s - loss: 1.4686 - accuracy: 0.4157\n",
      "Test loss:  1.4686375260353088\n",
      "Test accuracy:  0.41566747\n"
     ]
    }
   ],
   "source": [
    "test_results(model_6, test_df)"
   ]
  },
  {
   "cell_type": "code",
   "execution_count": 38,
   "metadata": {},
   "outputs": [
    {
     "name": "stdout",
     "output_type": "stream",
     "text": [
      "Model: \"sequential_6\"\n",
      "_________________________________________________________________\n",
      "Layer (type)                 Output Shape              Param #   \n",
      "=================================================================\n",
      "conv2d_18 (Conv2D)           (None, 30, 30, 32)        896       \n",
      "_________________________________________________________________\n",
      "max_pooling2d_12 (MaxPooling (None, 15, 15, 32)        0         \n",
      "_________________________________________________________________\n",
      "conv2d_19 (Conv2D)           (None, 13, 13, 64)        18496     \n",
      "_________________________________________________________________\n",
      "max_pooling2d_13 (MaxPooling (None, 6, 6, 64)          0         \n",
      "_________________________________________________________________\n",
      "conv2d_20 (Conv2D)           (None, 4, 4, 64)          36928     \n",
      "_________________________________________________________________\n",
      "flatten_6 (Flatten)          (None, 1024)              0         \n",
      "_________________________________________________________________\n",
      "dense_12 (Dense)             (None, 64)                65600     \n",
      "_________________________________________________________________\n",
      "dense_13 (Dense)             (None, 10)                650       \n",
      "=================================================================\n",
      "Total params: 122,570\n",
      "Trainable params: 122,570\n",
      "Non-trainable params: 0\n",
      "_________________________________________________________________\n"
     ]
    }
   ],
   "source": [
    "# Model 7\n",
    "model_7 = model_cnn('relu', 'Adamax', SparseCategoricalCrossentropy(from_logits=False))\n",
    "model_7.summary()"
   ]
  },
  {
   "cell_type": "code",
   "execution_count": 39,
   "metadata": {},
   "outputs": [
    {
     "name": "stdout",
     "output_type": "stream",
     "text": [
      "WARNING:tensorflow:sample_weight modes were coerced from\n",
      "  ...\n",
      "    to  \n",
      "  ['...']\n",
      "WARNING:tensorflow:sample_weight modes were coerced from\n",
      "  ...\n",
      "    to  \n",
      "  ['...']\n",
      "Train for 62 steps, validate for 15 steps\n",
      "Epoch 1/10\n",
      "62/62 [==============================] - 5s 80ms/step - loss: 1.6797 - accuracy: 0.3363 - val_loss: 1.5072 - val_accuracy: 0.3458\n",
      "Epoch 2/10\n",
      "62/62 [==============================] - 4s 68ms/step - loss: 1.4865 - accuracy: 0.3462 - val_loss: 1.4677 - val_accuracy: 0.3219\n",
      "Epoch 3/10\n",
      "62/62 [==============================] - 5s 73ms/step - loss: 1.4241 - accuracy: 0.3830 - val_loss: 1.4031 - val_accuracy: 0.4583\n",
      "Epoch 4/10\n",
      "62/62 [==============================] - 4s 69ms/step - loss: 1.4990 - accuracy: 0.3909 - val_loss: 1.4400 - val_accuracy: 0.3396\n",
      "Epoch 5/10\n",
      "62/62 [==============================] - 5s 73ms/step - loss: 1.3753 - accuracy: 0.4105 - val_loss: 1.3736 - val_accuracy: 0.4385\n",
      "Epoch 6/10\n",
      "62/62 [==============================] - 4s 70ms/step - loss: 1.3276 - accuracy: 0.4536 - val_loss: 1.4580 - val_accuracy: 0.4083\n",
      "Epoch 7/10\n",
      "62/62 [==============================] - 6s 92ms/step - loss: 1.3272 - accuracy: 0.4704 - val_loss: 1.5161 - val_accuracy: 0.4344\n",
      "Epoch 8/10\n",
      "62/62 [==============================] - 7s 111ms/step - loss: 1.3388 - accuracy: 0.4475 - val_loss: 1.3396 - val_accuracy: 0.4719\n",
      "Epoch 9/10\n",
      "62/62 [==============================] - 5s 85ms/step - loss: 1.2938 - accuracy: 0.4816 - val_loss: 1.4351 - val_accuracy: 0.4854\n",
      "Epoch 10/10\n",
      "62/62 [==============================] - 4s 67ms/step - loss: 1.4506 - accuracy: 0.4597 - val_loss: 2.1598 - val_accuracy: 0.3260\n"
     ]
    },
    {
     "data": {
      "text/plain": [
       "<tensorflow.python.keras.callbacks.History at 0x14e2b1690>"
      ]
     },
     "execution_count": 39,
     "metadata": {},
     "output_type": "execute_result"
    }
   ],
   "source": [
    "train_model(model_7, epochs = 10)"
   ]
  },
  {
   "cell_type": "code",
   "execution_count": 40,
   "metadata": {},
   "outputs": [
    {
     "name": "stdout",
     "output_type": "stream",
     "text": [
      "WARNING:tensorflow:sample_weight modes were coerced from\n",
      "  ...\n",
      "    to  \n",
      "  ['...']\n",
      "20/20 - 1s - loss: 2.3818 - accuracy: 0.3078\n",
      "Test loss:  2.3817905485630035\n",
      "Test accuracy:  0.3077538\n"
     ]
    }
   ],
   "source": [
    "test_results(model_7,test_df)"
   ]
  },
  {
   "cell_type": "markdown",
   "metadata": {},
   "source": [
    "# Changing network architecture"
   ]
  },
  {
   "cell_type": "code",
   "execution_count": 41,
   "metadata": {},
   "outputs": [],
   "source": [
    "#Removing a convolution layer in the model\n",
    "model_8 = models.Sequential()\n",
    "model_8.add(layers.Conv2D(32, (3, 3), activation='relu', input_shape=(32, 32, 3)))\n",
    "model_8.add(layers.MaxPooling2D((2, 2)))\n",
    "#model.add(layers.Conv2D(64, (3, 3), activation='relu'))\n",
    "#model.add(layers.MaxPooling2D((2, 2)))\n",
    "model_8.add(layers.Conv2D(64, (3, 3), activation='relu'))\n",
    "model_8.add(layers.Flatten())\n",
    "model_8.add(layers.Dense(64, activation='relu'))\n",
    "model_8.add(layers.Dense(10))\n",
    "model_8.compile(loss=SparseCategoricalCrossentropy(from_logits=False),\n",
    "                optimizer='adam', metrics=['accuracy'])"
   ]
  },
  {
   "cell_type": "code",
   "execution_count": 42,
   "metadata": {},
   "outputs": [
    {
     "name": "stdout",
     "output_type": "stream",
     "text": [
      "Model: \"sequential_7\"\n",
      "_________________________________________________________________\n",
      "Layer (type)                 Output Shape              Param #   \n",
      "=================================================================\n",
      "conv2d_21 (Conv2D)           (None, 30, 30, 32)        896       \n",
      "_________________________________________________________________\n",
      "max_pooling2d_14 (MaxPooling (None, 15, 15, 32)        0         \n",
      "_________________________________________________________________\n",
      "conv2d_22 (Conv2D)           (None, 13, 13, 64)        18496     \n",
      "_________________________________________________________________\n",
      "flatten_7 (Flatten)          (None, 10816)             0         \n",
      "_________________________________________________________________\n",
      "dense_14 (Dense)             (None, 64)                692288    \n",
      "_________________________________________________________________\n",
      "dense_15 (Dense)             (None, 10)                650       \n",
      "=================================================================\n",
      "Total params: 712,330\n",
      "Trainable params: 712,330\n",
      "Non-trainable params: 0\n",
      "_________________________________________________________________\n"
     ]
    }
   ],
   "source": [
    "model_8.summary()"
   ]
  },
  {
   "cell_type": "code",
   "execution_count": 43,
   "metadata": {},
   "outputs": [
    {
     "name": "stdout",
     "output_type": "stream",
     "text": [
      "WARNING:tensorflow:sample_weight modes were coerced from\n",
      "  ...\n",
      "    to  \n",
      "  ['...']\n",
      "WARNING:tensorflow:sample_weight modes were coerced from\n",
      "  ...\n",
      "    to  \n",
      "  ['...']\n",
      "Train for 62 steps, validate for 15 steps\n",
      "Epoch 1/10\n",
      "62/62 [==============================] - 5s 74ms/step - loss: 6.4476 - accuracy: 0.3386 - val_loss: 6.4692 - val_accuracy: 0.3458\n",
      "Epoch 2/10\n",
      "62/62 [==============================] - 5s 75ms/step - loss: 6.4386 - accuracy: 0.3396 - val_loss: 6.4652 - val_accuracy: 0.3458\n",
      "Epoch 3/10\n",
      "62/62 [==============================] - 4s 72ms/step - loss: 6.4408 - accuracy: 0.3381 - val_loss: 6.4219 - val_accuracy: 0.3458\n",
      "Epoch 4/10\n",
      "62/62 [==============================] - 4s 70ms/step - loss: 6.2047 - accuracy: 0.3272 - val_loss: 6.4837 - val_accuracy: 0.2146\n",
      "Epoch 5/10\n",
      "62/62 [==============================] - 4s 70ms/step - loss: 6.4657 - accuracy: 0.3459 - val_loss: 6.5384 - val_accuracy: 0.3552\n",
      "Epoch 6/10\n",
      "62/62 [==============================] - 4s 66ms/step - loss: 6.4512 - accuracy: 0.3480 - val_loss: 6.5384 - val_accuracy: 0.3552\n",
      "Epoch 7/10\n",
      "62/62 [==============================] - 4s 67ms/step - loss: 6.4512 - accuracy: 0.3482 - val_loss: 6.5384 - val_accuracy: 0.3552\n",
      "Epoch 8/10\n",
      "62/62 [==============================] - 4s 69ms/step - loss: 6.4634 - accuracy: 0.3487 - val_loss: 6.5384 - val_accuracy: 0.3552\n",
      "Epoch 9/10\n",
      "62/62 [==============================] - 4s 72ms/step - loss: 6.4634 - accuracy: 0.3470 - val_loss: 6.5384 - val_accuracy: 0.3552\n",
      "Epoch 10/10\n",
      "62/62 [==============================] - 4s 67ms/step - loss: 6.4512 - accuracy: 0.3480 - val_loss: 6.5384 - val_accuracy: 0.3552\n"
     ]
    },
    {
     "data": {
      "text/plain": [
       "<tensorflow.python.keras.callbacks.History at 0x14f475190>"
      ]
     },
     "execution_count": 43,
     "metadata": {},
     "output_type": "execute_result"
    }
   ],
   "source": [
    "train_model(model_8, epochs=10)"
   ]
  },
  {
   "cell_type": "code",
   "execution_count": 44,
   "metadata": {},
   "outputs": [
    {
     "name": "stdout",
     "output_type": "stream",
     "text": [
      "WARNING:tensorflow:sample_weight modes were coerced from\n",
      "  ...\n",
      "    to  \n",
      "  ['...']\n",
      "20/20 - 1s - loss: 6.3971 - accuracy: 0.3373\n",
      "Test loss:  6.397076344490051\n",
      "Test accuracy:  0.33733013\n"
     ]
    }
   ],
   "source": [
    "test_results(model_8,test_df)"
   ]
  },
  {
   "cell_type": "code",
   "execution_count": 45,
   "metadata": {},
   "outputs": [
    {
     "name": "stdout",
     "output_type": "stream",
     "text": [
      "Model: \"sequential_8\"\n",
      "_________________________________________________________________\n",
      "Layer (type)                 Output Shape              Param #   \n",
      "=================================================================\n",
      "conv2d_23 (Conv2D)           (None, 30, 30, 32)        896       \n",
      "_________________________________________________________________\n",
      "max_pooling2d_15 (MaxPooling (None, 15, 15, 32)        0         \n",
      "_________________________________________________________________\n",
      "conv2d_24 (Conv2D)           (None, 13, 13, 32)        9248      \n",
      "_________________________________________________________________\n",
      "max_pooling2d_16 (MaxPooling (None, 6, 6, 32)          0         \n",
      "_________________________________________________________________\n",
      "conv2d_25 (Conv2D)           (None, 4, 4, 32)          9248      \n",
      "_________________________________________________________________\n",
      "flatten_8 (Flatten)          (None, 512)               0         \n",
      "_________________________________________________________________\n",
      "dense_16 (Dense)             (None, 32)                16416     \n",
      "_________________________________________________________________\n",
      "dense_17 (Dense)             (None, 10)                330       \n",
      "=================================================================\n",
      "Total params: 36,138\n",
      "Trainable params: 36,138\n",
      "Non-trainable params: 0\n",
      "_________________________________________________________________\n"
     ]
    }
   ],
   "source": [
    "#Removing a convolution layer in the model\n",
    "model_9 = models.Sequential()\n",
    "model_9.add(layers.Conv2D(32, (3, 3), activation='relu', input_shape=(32, 32, 3)))\n",
    "model_9.add(layers.MaxPooling2D((2, 2)))\n",
    "model_9.add(layers.Conv2D(32, (3, 3), activation='relu'))\n",
    "model_9.add(layers.MaxPooling2D((2, 2)))\n",
    "model_9.add(layers.Conv2D(32, (3, 3), activation='relu'))\n",
    "model_9.add(layers.Flatten())\n",
    "model_9.add(layers.Dense(32, activation='relu'))\n",
    "model_9.add(layers.Dense(10))\n",
    "model_9.compile(loss=SparseCategoricalCrossentropy(from_logits=False),\n",
    "                optimizer='adam', metrics=['accuracy'])\n",
    "model_9.summary()"
   ]
  },
  {
   "cell_type": "code",
   "execution_count": 46,
   "metadata": {},
   "outputs": [
    {
     "name": "stdout",
     "output_type": "stream",
     "text": [
      "WARNING:tensorflow:sample_weight modes were coerced from\n",
      "  ...\n",
      "    to  \n",
      "  ['...']\n",
      "WARNING:tensorflow:sample_weight modes were coerced from\n",
      "  ...\n",
      "    to  \n",
      "  ['...']\n",
      "Train for 62 steps, validate for 15 steps\n",
      "Epoch 1/10\n",
      "62/62 [==============================] - 5s 78ms/step - loss: 4.2224 - accuracy: 0.2901 - val_loss: 3.8350 - val_accuracy: 0.3396\n",
      "Epoch 2/10\n",
      "62/62 [==============================] - 4s 67ms/step - loss: 3.1007 - accuracy: 0.2954 - val_loss: 1.4977 - val_accuracy: 0.3469\n",
      "Epoch 3/10\n",
      "62/62 [==============================] - 4s 67ms/step - loss: 1.4774 - accuracy: 0.3493 - val_loss: 1.4362 - val_accuracy: 0.3896\n",
      "Epoch 4/10\n",
      "62/62 [==============================] - 4s 65ms/step - loss: 1.4582 - accuracy: 0.3658 - val_loss: 1.6227 - val_accuracy: 0.3958\n",
      "Epoch 5/10\n",
      "62/62 [==============================] - 5s 74ms/step - loss: 1.4210 - accuracy: 0.4270 - val_loss: 1.9790 - val_accuracy: 0.2531\n",
      "Epoch 6/10\n",
      "62/62 [==============================] - 4s 66ms/step - loss: 1.4520 - accuracy: 0.3658 - val_loss: 1.3691 - val_accuracy: 0.4333\n",
      "Epoch 7/10\n",
      "62/62 [==============================] - 4s 65ms/step - loss: 1.7964 - accuracy: 0.3993 - val_loss: 1.4860 - val_accuracy: 0.3469\n",
      "Epoch 8/10\n",
      "62/62 [==============================] - 4s 62ms/step - loss: 1.4819 - accuracy: 0.3673 - val_loss: 1.4049 - val_accuracy: 0.3854\n",
      "Epoch 9/10\n",
      "62/62 [==============================] - 4s 68ms/step - loss: 1.4387 - accuracy: 0.3901 - val_loss: 1.4077 - val_accuracy: 0.4313\n",
      "Epoch 10/10\n",
      "62/62 [==============================] - 4s 67ms/step - loss: 1.3796 - accuracy: 0.4483 - val_loss: 1.3501 - val_accuracy: 0.4760\n"
     ]
    },
    {
     "data": {
      "text/plain": [
       "<tensorflow.python.keras.callbacks.History at 0x14f3abfd0>"
      ]
     },
     "execution_count": 46,
     "metadata": {},
     "output_type": "execute_result"
    }
   ],
   "source": [
    "train_model(model_9,epochs=10)"
   ]
  },
  {
   "cell_type": "code",
   "execution_count": 47,
   "metadata": {},
   "outputs": [
    {
     "name": "stdout",
     "output_type": "stream",
     "text": [
      "WARNING:tensorflow:sample_weight modes were coerced from\n",
      "  ...\n",
      "    to  \n",
      "  ['...']\n",
      "20/20 - 1s - loss: 1.4147 - accuracy: 0.4452\n",
      "Test loss:  1.41465562582016\n",
      "Test accuracy:  0.4452438\n"
     ]
    }
   ],
   "source": [
    "test_results(model_9,test_df)"
   ]
  },
  {
   "cell_type": "markdown",
   "metadata": {},
   "source": [
    "# Changing Network Initialization"
   ]
  },
  {
   "cell_type": "code",
   "execution_count": 48,
   "metadata": {},
   "outputs": [
    {
     "name": "stdout",
     "output_type": "stream",
     "text": [
      "Model: \"sequential_9\"\n",
      "_________________________________________________________________\n",
      "Layer (type)                 Output Shape              Param #   \n",
      "=================================================================\n",
      "conv2d_26 (Conv2D)           (None, 30, 30, 32)        896       \n",
      "_________________________________________________________________\n",
      "dense_18 (Dense)             (None, 30, 30, 32)        1056      \n",
      "_________________________________________________________________\n",
      "max_pooling2d_17 (MaxPooling (None, 15, 15, 32)        0         \n",
      "_________________________________________________________________\n",
      "conv2d_27 (Conv2D)           (None, 13, 13, 64)        18496     \n",
      "_________________________________________________________________\n",
      "max_pooling2d_18 (MaxPooling (None, 6, 6, 64)          0         \n",
      "_________________________________________________________________\n",
      "conv2d_28 (Conv2D)           (None, 4, 4, 64)          36928     \n",
      "_________________________________________________________________\n",
      "flatten_9 (Flatten)          (None, 1024)              0         \n",
      "_________________________________________________________________\n",
      "dense_19 (Dense)             (None, 64)                65600     \n",
      "_________________________________________________________________\n",
      "dense_20 (Dense)             (None, 10)                650       \n",
      "=================================================================\n",
      "Total params: 123,626\n",
      "Trainable params: 123,626\n",
      "Non-trainable params: 0\n",
      "_________________________________________________________________\n"
     ]
    }
   ],
   "source": [
    "initializer = tf.keras.initializers.RandomUniform() \n",
    "model_9 = models.Sequential()\n",
    "model_9.add(layers.Conv2D(32, (3, 3), activation='relu', input_shape=(32, 32, 3)))\n",
    "model_9.add(layers.Dense(32, kernel_initializer=initializer)) \n",
    "model_9.add(layers.MaxPooling2D((2, 2)))\n",
    "model_9.add(layers.Conv2D(64, (3, 3), activation='relu'))\n",
    "model_9.add(layers.MaxPooling2D((2, 2)))\n",
    "model_9.add(layers.Conv2D(64, (3, 3), activation='relu'))\n",
    "model_9.add(layers.Flatten())\n",
    "model_9.add(layers.Dense(64, activation='relu'))\n",
    "model_9.add(layers.Dense(10, activation='softmax'))\n",
    "model_9.compile(loss=SparseCategoricalCrossentropy(from_logits=False),\n",
    "                optimizer='adam', metrics=['accuracy'])\n",
    "model_9.summary()"
   ]
  },
  {
   "cell_type": "code",
   "execution_count": 49,
   "metadata": {},
   "outputs": [
    {
     "name": "stdout",
     "output_type": "stream",
     "text": [
      "WARNING:tensorflow:sample_weight modes were coerced from\n",
      "  ...\n",
      "    to  \n",
      "  ['...']\n",
      "WARNING:tensorflow:sample_weight modes were coerced from\n",
      "  ...\n",
      "    to  \n",
      "  ['...']\n",
      "Train for 62 steps, validate for 15 steps\n",
      "Epoch 1/10\n",
      "62/62 [==============================] - 5s 86ms/step - loss: 1.6379 - accuracy: 0.3302 - val_loss: 1.5448 - val_accuracy: 0.3458\n",
      "Epoch 2/10\n",
      "62/62 [==============================] - 4s 73ms/step - loss: 1.5433 - accuracy: 0.3421 - val_loss: 1.4702 - val_accuracy: 0.3583\n",
      "Epoch 3/10\n",
      "62/62 [==============================] - 6s 95ms/step - loss: 1.4220 - accuracy: 0.3909 - val_loss: 1.3375 - val_accuracy: 0.4563\n",
      "Epoch 4/10\n",
      "62/62 [==============================] - 7s 110ms/step - loss: 1.2485 - accuracy: 0.4757 - val_loss: 1.2036 - val_accuracy: 0.5094\n",
      "Epoch 5/10\n",
      "62/62 [==============================] - 6s 103ms/step - loss: 1.1241 - accuracy: 0.5344 - val_loss: 1.0569 - val_accuracy: 0.5688\n",
      "Epoch 6/10\n",
      "62/62 [==============================] - 7s 106ms/step - loss: 1.0405 - accuracy: 0.5611 - val_loss: 0.9987 - val_accuracy: 0.5792\n",
      "Epoch 7/10\n",
      "62/62 [==============================] - 6s 91ms/step - loss: 0.9862 - accuracy: 0.5895 - val_loss: 0.9898 - val_accuracy: 0.5792\n",
      "Epoch 8/10\n",
      "62/62 [==============================] - 5s 82ms/step - loss: 0.9384 - accuracy: 0.6101 - val_loss: 0.9283 - val_accuracy: 0.6146\n",
      "Epoch 9/10\n",
      "62/62 [==============================] - 5s 73ms/step - loss: 0.9258 - accuracy: 0.6226 - val_loss: 0.9206 - val_accuracy: 0.6260\n",
      "Epoch 10/10\n",
      "62/62 [==============================] - 5s 80ms/step - loss: 0.8579 - accuracy: 0.6490 - val_loss: 0.9145 - val_accuracy: 0.6302\n"
     ]
    },
    {
     "data": {
      "text/plain": [
       "<tensorflow.python.keras.callbacks.History at 0x150fd9650>"
      ]
     },
     "execution_count": 49,
     "metadata": {},
     "output_type": "execute_result"
    }
   ],
   "source": [
    "train_model(model_9, epochs=10)"
   ]
  },
  {
   "cell_type": "code",
   "execution_count": 50,
   "metadata": {},
   "outputs": [
    {
     "name": "stdout",
     "output_type": "stream",
     "text": [
      "WARNING:tensorflow:sample_weight modes were coerced from\n",
      "  ...\n",
      "    to  \n",
      "  ['...']\n",
      "20/20 - 1s - loss: 1.0198 - accuracy: 0.5891\n",
      "Test loss:  1.0198140770196915\n",
      "Test accuracy:  0.5891287\n"
     ]
    }
   ],
   "source": [
    "test_results(model_9,test_df)"
   ]
  },
  {
   "cell_type": "code",
   "execution_count": 51,
   "metadata": {},
   "outputs": [
    {
     "name": "stdout",
     "output_type": "stream",
     "text": [
      "Model: \"sequential_10\"\n",
      "_________________________________________________________________\n",
      "Layer (type)                 Output Shape              Param #   \n",
      "=================================================================\n",
      "conv2d_29 (Conv2D)           (None, 30, 30, 32)        896       \n",
      "_________________________________________________________________\n",
      "dense_21 (Dense)             (None, 30, 30, 32)        1056      \n",
      "_________________________________________________________________\n",
      "max_pooling2d_19 (MaxPooling (None, 15, 15, 32)        0         \n",
      "_________________________________________________________________\n",
      "conv2d_30 (Conv2D)           (None, 13, 13, 64)        18496     \n",
      "_________________________________________________________________\n",
      "max_pooling2d_20 (MaxPooling (None, 6, 6, 64)          0         \n",
      "_________________________________________________________________\n",
      "conv2d_31 (Conv2D)           (None, 4, 4, 64)          36928     \n",
      "_________________________________________________________________\n",
      "flatten_10 (Flatten)         (None, 1024)              0         \n",
      "_________________________________________________________________\n",
      "dense_22 (Dense)             (None, 64)                65600     \n",
      "_________________________________________________________________\n",
      "dense_23 (Dense)             (None, 10)                650       \n",
      "=================================================================\n",
      "Total params: 123,626\n",
      "Trainable params: 123,626\n",
      "Non-trainable params: 0\n",
      "_________________________________________________________________\n"
     ]
    }
   ],
   "source": [
    "initializer = tf.keras.initializers.glorot_uniform() \n",
    "model_10 = models.Sequential()\n",
    "model_10.add(layers.Conv2D(32, (3, 3), activation='relu', input_shape=(32, 32, 3)))\n",
    "model_10.add(layers.Dense(32, kernel_initializer=initializer)) \n",
    "model_10.add(layers.MaxPooling2D((2, 2)))\n",
    "model_10.add(layers.Conv2D(64, (3, 3), activation='relu'))\n",
    "model_10.add(layers.MaxPooling2D((2, 2)))\n",
    "model_10.add(layers.Conv2D(64, (3, 3), activation='relu'))\n",
    "model_10.add(layers.Flatten())\n",
    "model_10.add(layers.Dense(64, activation='relu'))\n",
    "model_10.add(layers.Dense(10, activation='softmax'))\n",
    "model_10.compile(loss=SparseCategoricalCrossentropy(from_logits=False),\n",
    "                optimizer='adam', metrics=['accuracy'])\n",
    "model_10.summary()"
   ]
  },
  {
   "cell_type": "code",
   "execution_count": 52,
   "metadata": {},
   "outputs": [
    {
     "name": "stdout",
     "output_type": "stream",
     "text": [
      "WARNING:tensorflow:sample_weight modes were coerced from\n",
      "  ...\n",
      "    to  \n",
      "  ['...']\n",
      "WARNING:tensorflow:sample_weight modes were coerced from\n",
      "  ...\n",
      "    to  \n",
      "  ['...']\n",
      "Train for 62 steps, validate for 15 steps\n",
      "Epoch 1/10\n",
      "62/62 [==============================] - 5s 80ms/step - loss: 1.5965 - accuracy: 0.3086 - val_loss: 1.5244 - val_accuracy: 0.3479\n",
      "Epoch 2/10\n",
      "62/62 [==============================] - 5s 74ms/step - loss: 1.3966 - accuracy: 0.4143 - val_loss: 1.2659 - val_accuracy: 0.5135\n",
      "Epoch 3/10\n",
      "62/62 [==============================] - 5s 75ms/step - loss: 1.1753 - accuracy: 0.5149 - val_loss: 1.1045 - val_accuracy: 0.5698\n",
      "Epoch 4/10\n",
      "62/62 [==============================] - 5s 75ms/step - loss: 1.0503 - accuracy: 0.5687 - val_loss: 1.0330 - val_accuracy: 0.5979\n",
      "Epoch 5/10\n",
      "62/62 [==============================] - 5s 73ms/step - loss: 0.9681 - accuracy: 0.6078 - val_loss: 1.0465 - val_accuracy: 0.5958\n",
      "Epoch 6/10\n",
      "62/62 [==============================] - 5s 74ms/step - loss: 0.9266 - accuracy: 0.6152 - val_loss: 0.9754 - val_accuracy: 0.6104\n",
      "Epoch 7/10\n",
      "62/62 [==============================] - 5s 75ms/step - loss: 0.8526 - accuracy: 0.6533 - val_loss: 0.9089 - val_accuracy: 0.6406\n",
      "Epoch 8/10\n",
      "62/62 [==============================] - 5s 74ms/step - loss: 0.8065 - accuracy: 0.6769 - val_loss: 0.8616 - val_accuracy: 0.6521\n",
      "Epoch 9/10\n",
      "62/62 [==============================] - 5s 75ms/step - loss: 0.7613 - accuracy: 0.6848 - val_loss: 0.8967 - val_accuracy: 0.6490\n",
      "Epoch 10/10\n",
      "62/62 [==============================] - 5s 73ms/step - loss: 0.6990 - accuracy: 0.7178 - val_loss: 0.8375 - val_accuracy: 0.6719\n"
     ]
    },
    {
     "data": {
      "text/plain": [
       "<tensorflow.python.keras.callbacks.History at 0x14ffb6750>"
      ]
     },
     "execution_count": 52,
     "metadata": {},
     "output_type": "execute_result"
    }
   ],
   "source": [
    "train_model(model_10,epochs=10)"
   ]
  },
  {
   "cell_type": "code",
   "execution_count": 53,
   "metadata": {},
   "outputs": [
    {
     "name": "stdout",
     "output_type": "stream",
     "text": [
      "WARNING:tensorflow:sample_weight modes were coerced from\n",
      "  ...\n",
      "    to  \n",
      "  ['...']\n",
      "20/20 - 1s - loss: 0.9095 - accuracy: 0.6427\n",
      "Test loss:  0.9094836294651032\n",
      "Test accuracy:  0.64268583\n"
     ]
    }
   ],
   "source": [
    "test_results(model_10,test_df)"
   ]
  },
  {
   "cell_type": "code",
   "execution_count": 54,
   "metadata": {},
   "outputs": [
    {
     "name": "stdout",
     "output_type": "stream",
     "text": [
      "Model: \"sequential_11\"\n",
      "_________________________________________________________________\n",
      "Layer (type)                 Output Shape              Param #   \n",
      "=================================================================\n",
      "conv2d_32 (Conv2D)           (None, 30, 30, 32)        896       \n",
      "_________________________________________________________________\n",
      "dense_24 (Dense)             (None, 30, 30, 32)        1056      \n",
      "_________________________________________________________________\n",
      "max_pooling2d_21 (MaxPooling (None, 15, 15, 32)        0         \n",
      "_________________________________________________________________\n",
      "conv2d_33 (Conv2D)           (None, 13, 13, 64)        18496     \n",
      "_________________________________________________________________\n",
      "max_pooling2d_22 (MaxPooling (None, 6, 6, 64)          0         \n",
      "_________________________________________________________________\n",
      "conv2d_34 (Conv2D)           (None, 4, 4, 64)          36928     \n",
      "_________________________________________________________________\n",
      "flatten_11 (Flatten)         (None, 1024)              0         \n",
      "_________________________________________________________________\n",
      "dense_25 (Dense)             (None, 64)                65600     \n",
      "_________________________________________________________________\n",
      "dense_26 (Dense)             (None, 10)                650       \n",
      "=================================================================\n",
      "Total params: 123,626\n",
      "Trainable params: 123,626\n",
      "Non-trainable params: 0\n",
      "_________________________________________________________________\n"
     ]
    }
   ],
   "source": [
    "initializer = tf.keras.initializers.glorot_normal() \n",
    "model_11 = models.Sequential()\n",
    "model_11.add(layers.Conv2D(32, (3, 3), activation='relu', input_shape=(32, 32, 3)))\n",
    "model_11.add(layers.Dense(32, kernel_initializer=initializer)) \n",
    "model_11.add(layers.MaxPooling2D((2, 2)))\n",
    "model_11.add(layers.Conv2D(64, (3, 3), activation='relu'))\n",
    "model_11.add(layers.MaxPooling2D((2, 2)))\n",
    "model_11.add(layers.Conv2D(64, (3, 3), activation='relu'))\n",
    "model_11.add(layers.Flatten())\n",
    "model_11.add(layers.Dense(64, activation='relu'))\n",
    "model_11.add(layers.Dense(10, activation='softmax'))\n",
    "model_11.compile(loss=SparseCategoricalCrossentropy(from_logits=False),\n",
    "                optimizer='adam', metrics=['accuracy'])\n",
    "model_11.summary()"
   ]
  },
  {
   "cell_type": "code",
   "execution_count": 55,
   "metadata": {},
   "outputs": [
    {
     "name": "stdout",
     "output_type": "stream",
     "text": [
      "WARNING:tensorflow:sample_weight modes were coerced from\n",
      "  ...\n",
      "    to  \n",
      "  ['...']\n",
      "WARNING:tensorflow:sample_weight modes were coerced from\n",
      "  ...\n",
      "    to  \n",
      "  ['...']\n",
      "Train for 62 steps, validate for 15 steps\n",
      "Epoch 1/10\n",
      "62/62 [==============================] - 5s 82ms/step - loss: 1.6110 - accuracy: 0.3228 - val_loss: 1.5120 - val_accuracy: 0.3458\n",
      "Epoch 2/10\n",
      "62/62 [==============================] - 5s 73ms/step - loss: 1.4419 - accuracy: 0.3940 - val_loss: 1.3266 - val_accuracy: 0.4635\n",
      "Epoch 3/10\n",
      "62/62 [==============================] - 5s 74ms/step - loss: 1.2663 - accuracy: 0.4824 - val_loss: 1.2172 - val_accuracy: 0.5010\n",
      "Epoch 4/10\n",
      "62/62 [==============================] - 5s 73ms/step - loss: 1.1226 - accuracy: 0.5405 - val_loss: 1.1183 - val_accuracy: 0.5542\n",
      "Epoch 5/10\n",
      "62/62 [==============================] - 5s 73ms/step - loss: 1.0327 - accuracy: 0.5865 - val_loss: 0.9971 - val_accuracy: 0.6010\n",
      "Epoch 6/10\n",
      "62/62 [==============================] - 5s 75ms/step - loss: 0.9468 - accuracy: 0.6157 - val_loss: 0.9821 - val_accuracy: 0.6062\n",
      "Epoch 7/10\n",
      "62/62 [==============================] - 7s 110ms/step - loss: 0.8601 - accuracy: 0.6500 - val_loss: 0.8892 - val_accuracy: 0.6604\n",
      "Epoch 8/10\n",
      "62/62 [==============================] - 7s 111ms/step - loss: 0.8190 - accuracy: 0.6617 - val_loss: 0.9026 - val_accuracy: 0.6531\n",
      "Epoch 9/10\n",
      "62/62 [==============================] - 5s 86ms/step - loss: 0.7794 - accuracy: 0.6850 - val_loss: 0.8536 - val_accuracy: 0.6656\n",
      "Epoch 10/10\n",
      "62/62 [==============================] - 7s 105ms/step - loss: 0.7546 - accuracy: 0.6932 - val_loss: 0.8452 - val_accuracy: 0.6750\n"
     ]
    },
    {
     "data": {
      "text/plain": [
       "<tensorflow.python.keras.callbacks.History at 0x1507e1950>"
      ]
     },
     "execution_count": 55,
     "metadata": {},
     "output_type": "execute_result"
    }
   ],
   "source": [
    "train_model(model_11,epochs=10)"
   ]
  },
  {
   "cell_type": "code",
   "execution_count": 56,
   "metadata": {},
   "outputs": [
    {
     "name": "stdout",
     "output_type": "stream",
     "text": [
      "WARNING:tensorflow:sample_weight modes were coerced from\n",
      "  ...\n",
      "    to  \n",
      "  ['...']\n",
      "20/20 - 1s - loss: 0.9103 - accuracy: 0.6323\n",
      "Test loss:  0.9102858930826188\n",
      "Test accuracy:  0.6322942\n"
     ]
    }
   ],
   "source": [
    "test_results(model_11,test_df)"
   ]
  },
  {
   "cell_type": "markdown",
   "metadata": {},
   "source": [
    "## Conclusion\n",
    "\n",
    "        1. The model is trained with epochs of 15 initially but repeated training of the model in the running kernel makes the model overfit the data and could result in fake accuracies.\n",
    "        2. With hyperparameter tuning, the model is improved by initialising with Xavier Glorot Initialization \n",
    "    namely Xavier Uniform and Xavier Gaussian.\n",
    "        3. It has been observed that the model performed with other loss functions and optimisers but could yield better results with appropriate batch size\n",
    "        4. Meanwhile, it is also concluded that using different layers and adding more layers in the model would only increase the comkplexity but not improve the accuray unless an appropriate activation function is given.\n",
    "        3. Later, the model is tuned with various epochs and batch_size to improve accuracy.\n",
    "        4. Finally, the CNN gave the maximum accuracy of 63% with initial relu activation function and adam optimiser and no initialization and SparseCategoricalCrossEntropy as the best loss function."
   ]
  },
  {
   "cell_type": "markdown",
   "metadata": {},
   "source": [
    "# Author\n",
    "    Bhagyashri Rangnath Gundal (NUID: 001081806)\n",
    "    Master of Science in Information Systems\n",
    "    Northeastern University, Boston, MA"
   ]
  },
  {
   "cell_type": "markdown",
   "metadata": {},
   "source": [
    "# Citation\n",
    "\n",
    "**References:**<br>\n",
    "1. ADL (24 April 2018), \"*An intuitive guide to Convolutional Neural Networks*\" retrieved from https://www.freecodecamp.org/news/an-intuitive-guide-to-convolutional-neural-networks-260c2de0a050/\n",
    "2. TensorFlow Tutorials,\"*Convolutional Neural Network (CNN)*\" retrieved from https://www.tensorflow.org/tutorials/images/cnn\n",
    "3. Analytics Vidhya Courses, \"*Convolutional Neural Networks (CNN) from Scratch*\" retrieved from https://courses.analyticsvidhya.com/courses/take/convolutional-neural-networks-cnn-from-scratch/texts/10844923-what-is-a-neural-network\n",
    "4. TensorFlow Core Documentation, \"*Module: tf.keras.initializers*\" retrieved from  https://www.tensorflow.org/api_docs/python/tf/keras/initializers?version=nightly"
   ]
  },
  {
   "cell_type": "markdown",
   "metadata": {},
   "source": [
    "# Licensing"
   ]
  },
  {
   "cell_type": "markdown",
   "metadata": {},
   "source": [
    "MIT License\n",
    "\n",
    "<p style='text-align:justify'> \n",
    "Copyright (c) 2020 Bhagyashri Rangnath Gundal\n",
    "\n",
    "Permission is hereby granted, free of charge, to any person obtaining a copy\n",
    "of this software and associated documentation files (the \"Software\"), to deal\n",
    "in the Software without restriction, including without limitation the rights\n",
    "to use, copy, modify, merge, publish, distribute, sublicense, and/or sell\n",
    "copies of the Software, and to permit persons to whom the Software is\n",
    "furnished to do so, subject to the following conditions:\n",
    "\n",
    "The above copyright notice and this permission notice shall be included in all\n",
    "copies or substantial portions of the Software.\n",
    "\n",
    "THE SOFTWARE IS PROVIDED \"AS IS\", WITHOUT WARRANTY OF ANY KIND, EXPRESS OR\n",
    "IMPLIED, INCLUDING BUT NOT LIMITED TO THE WARRANTIES OF MERCHANTABILITY,\n",
    "FITNESS FOR A PARTICULAR PURPOSE AND NONINFRINGEMENT. IN NO EVENT SHALL THE\n",
    "AUTHORS OR COPYRIGHT HOLDERS BE LIABLE FOR ANY CLAIM, DAMAGES OR OTHER\n",
    "LIABILITY, WHETHER IN AN ACTION OF CONTRACT, TORT OR OTHERWISE, ARISING FROM,\n",
    "OUT OF OR IN CONNECTION WITH THE SOFTWARE OR THE USE OR OTHER DEALINGS IN THE\n",
    "SOFTWARE.\n",
    "</p>"
   ]
  }
 ],
 "metadata": {
  "kernelspec": {
   "display_name": "Python 3",
   "language": "python",
   "name": "python3"
  },
  "language_info": {
   "codemirror_mode": {
    "name": "ipython",
    "version": 3
   },
   "file_extension": ".py",
   "mimetype": "text/x-python",
   "name": "python",
   "nbconvert_exporter": "python",
   "pygments_lexer": "ipython3",
   "version": "3.7.4"
  }
 },
 "nbformat": 4,
 "nbformat_minor": 2
}
